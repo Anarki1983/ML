{
  "nbformat": 4,
  "nbformat_minor": 0,
  "metadata": {
    "colab": {
      "name": "cnn_cifar10.ipynb",
      "version": "0.3.2",
      "provenance": [],
      "include_colab_link": true
    },
    "kernelspec": {
      "name": "python3",
      "display_name": "Python 3"
    }
  },
  "cells": [
    {
      "cell_type": "markdown",
      "metadata": {
        "id": "view-in-github",
        "colab_type": "text"
      },
      "source": [
        "<a href=\"https://colab.research.google.com/github/Anarki1983/ML/blob/master/cnn_cifar10.ipynb\" target=\"_parent\"><img src=\"https://colab.research.google.com/assets/colab-badge.svg\" alt=\"Open In Colab\"/></a>"
      ]
    },
    {
      "cell_type": "code",
      "metadata": {
        "id": "hKGgonPReKYT",
        "colab_type": "code",
        "colab": {}
      },
      "source": [
        "# load online data\n",
        "from keras.datasets.cifar10 import load_data\n",
        "((x_train, y_train), (x_test,y_test)) = load_data()"
      ],
      "execution_count": 0,
      "outputs": []
    },
    {
      "cell_type": "code",
      "metadata": {
        "id": "krkvnPG_fHdJ",
        "colab_type": "code",
        "colab": {
          "base_uri": "https://localhost:8080/",
          "height": 50
        },
        "outputId": "18f80352-d41b-4574-fd1c-cde47233398a"
      },
      "source": [
        "print(\"訓練資料:\", x_train.shape)\n",
        "print(\"測試資料:\", x_test.shape)"
      ],
      "execution_count": 6,
      "outputs": [
        {
          "output_type": "stream",
          "text": [
            "訓練資料: (50000, 32, 32, 3)\n",
            "測試資料: (10000, 32, 32, 3)\n"
          ],
          "name": "stdout"
        }
      ]
    },
    {
      "cell_type": "code",
      "metadata": {
        "id": "BHSSNwq5gTq3",
        "colab_type": "code",
        "colab": {}
      },
      "source": [
        "# 轉換字典, 用來顯示中文\n",
        "trans = {0:\"飛機\", 1:\"汽車\", 2:\"鳥\",\n",
        "         3:\"貓\",4:\"鹿\",5:\"狗\",\n",
        "         6:\"青蛙\",7:\"馬\",8:\"船\",9:\"卡車\"}"
      ],
      "execution_count": 0,
      "outputs": []
    },
    {
      "cell_type": "code",
      "metadata": {
        "id": "hmle39_tfXef",
        "colab_type": "code",
        "colab": {
          "base_uri": "https://localhost:8080/",
          "height": 299
        },
        "outputId": "55a4ba15-9502-49d9-bd4a-f2cc29b158d4"
      },
      "source": [
        "import matplotlib.pyplot as plt\n",
        "%matplotlib inline\n",
        "import random\n",
        "c = random.randint(0, 49999)\n",
        "print(\"內容:\", trans[y_train[c][0]])\n",
        "plt.axis(\"off\")\n",
        "plt.imshow(x_train[c])"
      ],
      "execution_count": 17,
      "outputs": [
        {
          "output_type": "stream",
          "text": [
            "內容: 卡車\n"
          ],
          "name": "stdout"
        },
        {
          "output_type": "execute_result",
          "data": {
            "text/plain": [
              "<matplotlib.image.AxesImage at 0x7f63dd8717b8>"
            ]
          },
          "metadata": {
            "tags": []
          },
          "execution_count": 17
        },
        {
          "output_type": "display_data",
          "data": {
            "image/png": "[encoded data removed]",
            "text/plain": [
              "<Figure size 432x288 with 1 Axes>"
            ]
          },
          "metadata": {
            "tags": []
          }
        }
      ]
    }
  ]
}