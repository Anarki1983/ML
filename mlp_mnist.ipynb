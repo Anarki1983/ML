{
  "nbformat": 4,
  "nbformat_minor": 0,
  "metadata": {
    "colab": {
      "name": "mlp_mnist.ipynb",
      "version": "0.3.2",
      "provenance": [],
      "include_colab_link": true
    },
    "kernelspec": {
      "name": "python3",
      "display_name": "Python 3"
    }
  },
  "cells": [
    {
      "cell_type": "markdown",
      "metadata": {
        "id": "view-in-github",
        "colab_type": "text"
      },
      "source": [
        "<a href=\"https://colab.research.google.com/github/Anarki1983/ML_TED/blob/master/mlp_mnist.ipynb\" target=\"_parent\"><img src=\"https://colab.research.google.com/assets/colab-badge.svg\" alt=\"Open In Colab\"/></a>"
      ]
    },
    {
      "cell_type": "code",
      "metadata": {
        "id": "daU4k5ykoM2C",
        "colab_type": "code",
        "colab": {}
      },
      "source": [
        "import ssl\n",
        "ssl._create_default_https_context = ssl._create_unverified_context"
      ],
      "execution_count": 0,
      "outputs": []
    },
    {
      "cell_type": "code",
      "metadata": {
        "id": "NvBExg7do6ew",
        "colab_type": "code",
        "colab": {}
      },
      "source": [
        "from keras.datasets.mnist import load_data\n",
        "# ((訓練圖片, 訓練圖片答案), (測試圖片, 測試圖片答案))\n",
        "(x_train, y_train), (x_test, y_test) = load_data()"
      ],
      "execution_count": 0,
      "outputs": []
    },
    {
      "cell_type": "code",
      "metadata": {
        "id": "C1hbzIX1p8ZH",
        "colab_type": "code",
        "colab": {
          "base_uri": "https://localhost:8080/",
          "height": 34
        },
        "outputId": "400f2ce0-86e2-4c2c-82ea-b0edd089e1f4"
      },
      "source": [
        "x_train.shape"
      ],
      "execution_count": 6,
      "outputs": [
        {
          "output_type": "execute_result",
          "data": {
            "text/plain": [
              "(60000, 28, 28)"
            ]
          },
          "metadata": {
            "tags": []
          },
          "execution_count": 6
        }
      ]
    },
    {
      "cell_type": "code",
      "metadata": {
        "id": "IAW4Fa7eqe4f",
        "colab_type": "code",
        "colab": {
          "base_uri": "https://localhost:8080/",
          "height": 50
        },
        "outputId": "81040db2-f7c8-4893-9868-433ff25af249"
      },
      "source": [
        "print(\"訓練資料維度\", x_train.shape)\n",
        "print(\"測試資料維度\", x_test.shape)"
      ],
      "execution_count": 7,
      "outputs": [
        {
          "output_type": "stream",
          "text": [
            "訓練資料維度 (60000, 28, 28)\n",
            "測試資料維度 (10000, 28, 28)\n"
          ],
          "name": "stdout"
        }
      ]
    },
    {
      "cell_type": "code",
      "metadata": {
        "id": "MAWhaq3_qs7O",
        "colab_type": "code",
        "colab": {
          "base_uri": "https://localhost:8080/",
          "height": 298
        },
        "outputId": "76887357-1166-4b21-fe79-4ebe3b3ef6de"
      },
      "source": [
        "import matplotlib.pyplot as plt\n",
        "%matplotlib inline\n",
        "import random\n",
        "c = random.randint(0, 59999)\n",
        "print(\"正確答案\", y_train[c])\n",
        "plt.axis(\"off\") # 不印出軸線\n",
        "plt.imshow(x_train[c], cmap=\"gray\") # 印出圖片"
      ],
      "execution_count": 13,
      "outputs": [
        {
          "output_type": "stream",
          "text": [
            "正確答案 9\n"
          ],
          "name": "stdout"
        },
        {
          "output_type": "execute_result",
          "data": {
            "text/plain": [
              "<matplotlib.image.AxesImage at 0x7f028a6f64a8>"
            ]
          },
          "metadata": {
            "tags": []
          },
          "execution_count": 13
        },
        {
          "output_type": "display_data",
          "data": {
            "image/png": "[encoded data removed]",
            "text/plain": [
              "<Figure size 432x288 with 1 Axes>"
            ]
          },
          "metadata": {
            "tags": []
          }
        }
      ]
    },
    {
      "cell_type": "code",
      "metadata": {
        "id": "LpsPVvpfroU3",
        "colab_type": "code",
        "colab": {}
      },
      "source": [
        "import pandas as pd\n",
        "pd.DataFrame(x_train[c])"
      ],
      "execution_count": 0,
      "outputs": []
    },
    {
      "cell_type": "code",
      "metadata": {
        "id": "poP79rnMtato",
        "colab_type": "code",
        "colab": {}
      },
      "source": [
        "# step 1.1處理圖片 (reshape-> / 255)\n",
        "x_train_shape = x_train.reshape(60000, 784) / 255 # 轉換為一維陣列, 然後將數值縮小至0-1之間\n",
        "x_test_shape = x_test.reshape(10000, 784) / 255"
      ],
      "execution_count": 0,
      "outputs": []
    },
    {
      "cell_type": "code",
      "metadata": {
        "id": "wXq6FVlhuOlv",
        "colab_type": "code",
        "colab": {
          "base_uri": "https://localhost:8080/",
          "height": 50
        },
        "outputId": "01a7bdb6-39ff-4338-fa01-245e7c9f773d"
      },
      "source": [
        "# shape 1.2處理答案 One-Hot Encoding\n",
        "from keras.utils.np_utils import to_categorical\n",
        "y_train_cat = to_categorical(y_train) # 轉換為十個機率(One-Hot Encoding)\n",
        "y_test_cat = to_categorical(y_test)\n",
        "print(\"處理前\", y_train[0])\n",
        "print(\"處理後\", y_train_cat[0])"
      ],
      "execution_count": 17,
      "outputs": [
        {
          "output_type": "stream",
          "text": [
            "處理前 5\n",
            "處理後 [0. 0. 0. 0. 0. 1. 0. 0. 0. 0.]\n"
          ],
          "name": "stdout"
        }
      ]
    }
  ]
}