{
  "nbformat": 4,
  "nbformat_minor": 0,
  "metadata": {
    "colab": {
      "name": "Pandas 操作練習",
      "version": "0.3.2",
      "provenance": [],
      "collapsed_sections": [],
      "include_colab_link": true
    },
    "kernelspec": {
      "name": "python3",
      "display_name": "Python 3"
    }
  },
  "cells": [
    {
      "cell_type": "markdown",
      "metadata": {
        "id": "view-in-github",
        "colab_type": "text"
      },
      "source": [
        "<a href=\"https://colab.research.google.com/github/Anarki1983/ML_TED/blob/master/Pandas_%E6%93%8D%E4%BD%9C%E7%B7%B4%E7%BF%92.ipynb\" target=\"_parent\"><img src=\"https://colab.research.google.com/assets/colab-badge.svg\" alt=\"Open In Colab\"/></a>"
      ]
    },
    {
      "cell_type": "code",
      "metadata": {
        "id": "g7wm5mlCMtHg",
        "colab_type": "code",
        "colab": {}
      },
      "source": [
        "import pandas as pd\n",
        "#url = 'https://raw.githubusercontent.com/Anarki1983/TED/master/ted_main.csv?token=ABTJWHIMH3OYLKIOVJYO3JK4XZCQY'\n",
        "url = 'https://raw.githubusercontent.com/Anarki1983/ML_TED/master/ted_main.csv'\n",
        "df = pd.read_csv(url, encoding=\"utf-8\")\n",
        "df"
      ],
      "execution_count": 0,
      "outputs": []
    },
    {
      "cell_type": "code",
      "metadata": {
        "id": "SBWJ2RlNP-h-",
        "colab_type": "code",
        "colab": {}
      },
      "source": [
        "# 行操作\n",
        "df[\"comments\"]"
      ],
      "execution_count": 0,
      "outputs": []
    },
    {
      "cell_type": "code",
      "metadata": {
        "id": "yh8uFKNzQRiV",
        "colab_type": "code",
        "colab": {}
      },
      "source": [
        "df[ [\"comments\", \"description\"] ]"
      ],
      "execution_count": 0,
      "outputs": []
    },
    {
      "cell_type": "code",
      "metadata": {
        "id": "mep7E2CKQuRu",
        "colab_type": "code",
        "colab": {}
      },
      "source": [
        "# 列操作\n",
        "df.head(5)"
      ],
      "execution_count": 0,
      "outputs": []
    },
    {
      "cell_type": "code",
      "metadata": {
        "id": "hze7uHLNRDQt",
        "colab_type": "code",
        "colab": {}
      },
      "source": [
        "df.tail(5)"
      ],
      "execution_count": 0,
      "outputs": []
    },
    {
      "cell_type": "code",
      "metadata": {
        "id": "QLo-6hzrRIPV",
        "colab_type": "code",
        "colab": {}
      },
      "source": [
        "# .iloc: [編號0列, 編號1列, ...]\n",
        "df.iloc[999]"
      ],
      "execution_count": 0,
      "outputs": []
    },
    {
      "cell_type": "code",
      "metadata": {
        "id": "JgJmXsSkRqvu",
        "colab_type": "code",
        "colab": {}
      },
      "source": [
        "df.iloc[999:1005] # list from 999 to 1004"
      ],
      "execution_count": 0,
      "outputs": []
    },
    {
      "cell_type": "code",
      "metadata": {
        "id": "CUf2OfF0R6sF",
        "colab_type": "code",
        "colab": {}
      },
      "source": [
        "df.iloc[999:1005:2] # list from 999 to 1004, i+=2"
      ],
      "execution_count": 0,
      "outputs": []
    },
    {
      "cell_type": "code",
      "metadata": {
        "id": "l99Dvk01gMYl",
        "colab_type": "code",
        "colab": {}
      },
      "source": [
        "from datetime import datetime\n",
        "t = 1140825600\n",
        "str(datetime.utcfromtimestamp(t)) # utc轉timestamp"
      ],
      "execution_count": 0,
      "outputs": []
    },
    {
      "cell_type": "code",
      "metadata": {
        "id": "9MypQj_agsGd",
        "colab_type": "code",
        "colab": {}
      },
      "source": [
        "def timeflow(t):\n",
        "    return str(datetime.utcfromtimestamp(t))\n",
        "df[\"film_data_utc\"] = df[\"film_date\"].apply(timeflow)\n",
        "df"
      ],
      "execution_count": 0,
      "outputs": []
    },
    {
      "cell_type": "code",
      "metadata": {
        "id": "3fvxLi3WjfEk",
        "colab_type": "code",
        "colab": {}
      },
      "source": [
        "# df[跟你資料筆數一樣多的True/False的List/Series]\n",
        "df.head(3)[ [True, False, True] ]"
      ],
      "execution_count": 0,
      "outputs": []
    },
    {
      "cell_type": "code",
      "metadata": {
        "id": "YXLANba1kJX8",
        "colab_type": "code",
        "colab": {}
      },
      "source": [
        "ftr = df[\"comments\"] > 3000\n",
        "df[ftr]"
      ],
      "execution_count": 0,
      "outputs": []
    },
    {
      "cell_type": "code",
      "metadata": {
        "id": "KxjJStM3lJ27",
        "colab_type": "code",
        "colab": {}
      },
      "source": [
        "# eval(str): 把字串當作python程式執行\n",
        "eval(\"print(3 + 2)\")\n",
        "eval(\"[1, 2, 3]\")[-1]"
      ],
      "execution_count": 0,
      "outputs": []
    },
    {
      "cell_type": "code",
      "metadata": {
        "id": "v2bPe6qIks98",
        "colab_type": "code",
        "outputId": "8f279b03-1ea8-4d1b-ccd2-cc4c7c740d7c",
        "colab": {
          "base_uri": "https://localhost:8080/",
          "height": 34
        }
      },
      "source": [
        "from google.colab import files\n",
        "\n",
        "def tagflow(s, **kwargs):\n",
        "    taglist = eval(s)\n",
        "    # if \"children\" in taglist:\n",
        "    if kwargs[\"tag\"] in taglist:\n",
        "        return True\n",
        "    else:\n",
        "        return False\n",
        "    \n",
        "t = input(\"input tag filter: \")\n",
        "filterdf = df[df[\"tags\"].apply(tagflow, tag=t)] # filter rows with input tag in tags field\n",
        "filterdf.to_csv(\"filter.csv\", encoding=\"utf-8\", index=False)\n",
        "filterdf\n",
        "files.download(\"filter.csv\")"
      ],
      "execution_count": 0,
      "outputs": [
        {
          "output_type": "stream",
          "text": [
            "input tag filter: family\n"
          ],
          "name": "stdout"
        }
      ]
    },
    {
      "cell_type": "markdown",
      "metadata": {
        "id": "QLOnckhJjRMr",
        "colab_type": "text"
      },
      "source": [
        ""
      ]
    },
    {
      "cell_type": "code",
      "metadata": {
        "id": "hqIQYnvSmUeL",
        "colab_type": "code",
        "colab": {}
      },
      "source": [
        "# **: 將參數轉化為字典\n",
        "def test(**a):\n",
        "    print(a)\n",
        "test(a=3, b=5, c=6)"
      ],
      "execution_count": 0,
      "outputs": []
    },
    {
      "cell_type": "code",
      "metadata": {
        "id": "yYttmD6Hn3h7",
        "colab_type": "code",
        "colab": {}
      },
      "source": [
        "df.T # 轉置表格\n",
        "df.T.to_csv(\"transpose.csv\", encoding=\"utf-8\")"
      ],
      "execution_count": 0,
      "outputs": []
    }
  ]
}